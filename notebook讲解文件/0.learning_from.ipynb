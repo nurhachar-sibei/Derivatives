{
 "cells": [
  {
   "cell_type": "markdown",
   "id": "9915a409",
   "metadata": {},
   "source": [
    "讲解文件中的资料来源于：\n",
    "\n",
    "> https://zhuanlan.zhihu.com/p/665538917"
   ]
  }
 ],
 "metadata": {
  "language_info": {
   "name": "python"
  }
 },
 "nbformat": 4,
 "nbformat_minor": 5
}
