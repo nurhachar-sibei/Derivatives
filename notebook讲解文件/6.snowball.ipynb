{
 "cells": [
  {
   "cell_type": "code",
   "execution_count": 1,
   "id": "c5f8b9e9",
   "metadata": {},
   "outputs": [],
   "source": [
    "import numpy as np\n",
    "import math\n",
    "import matplotlib.pyplot as plt\n",
    "from numba import jit\n",
    "import pandas as pd\n",
    "import warnings\n",
    "warnings.filterwarnings(\"ignore\")\n",
    "plt.rcParams[\"font.sans-serif\"] = [\"SimHei\"]\n",
    "plt.rcParams[\"axes.unicode_minus\"] = False"
   ]
  },
  {
   "cell_type": "code",
   "execution_count": 13,
   "id": "0aff5bfe",
   "metadata": {},
   "outputs": [],
   "source": [
    "#定义几何布朗运动函数\n",
    "def mcs_simulation(S0,r,b,T,sigma,paths,steps):\n",
    "    \"\"\"\n",
    "    模拟几何布朗运动\n",
    "    S0: 初始价格\n",
    "    r: 无风险利率\n",
    "    b:  持有成本\n",
    "    T: 时间长度\n",
    "    sigma: 波动率\n",
    "    paths: 模拟路径数量\n",
    "    steps: 时间步长数量\n",
    "    \"\"\"\n",
    "    dt = T/steps\n",
    "    S_path = np.zeros((steps+1,paths))\n",
    "    S_path[0] = S0\n",
    "    for step in range(1,steps+1):\n",
    "        rn = np.random.standard_normal(paths)\n",
    "        S_path[step] = S_path[step-1] * np.exp((b-sigma**2/2)*dt + sigma*np.sqrt(dt)*rn)\n",
    "    return S_path\n",
    "\n",
    "#计算每条路径敲入敲出情况，并求期望现金流，得到期权价值\n",
    "@jit(forceobj=True)\n",
    "def auto_callable(S0,r,b,T,sigma,paths,steps,knock_out,knock_in,coupon):\n",
    "    \"\"\"\n",
    "    模拟自动可调用期权\n",
    "    S0: 初始价格\n",
    "    r: 无风险利率\n",
    "    b:  持有成本\n",
    "    T: 时间长度\n",
    "    sigma: 波动率\n",
    "    paths: 模拟路径数量\n",
    "    steps: 时间步长数量\n",
    "    knock_out: 敲出价格\n",
    "    knock_in: 敲入价格\n",
    "    coupon: 票息\n",
    "    \"\"\"\n",
    "    S_paths = mcs_simulation(S0,r,b,T,sigma,paths,steps)\n",
    "    cash_flow = np.zeros(paths) #用于存储现金流\n",
    "\n",
    "    knock_out_count = 0\n",
    "    knock_in_count = 0\n",
    "    not_in_out = 0\n",
    "    for i in range(paths):#对每条模拟路径进行循环，分析敲入敲出情况\n",
    "        knock_out_index = np.where(S_paths[:,i] >= knock_out*S0)[0]\n",
    "        knock_out_index = knock_out_index[knock_out_index % 21 ==0] # 简化假设每21个交易日为观察日\n",
    "        knock_in_index = np.where(S_paths[:,i] < knock_in*S0)[0] #以表现差的确定敲入，相当于有一个敲入就算敲入\n",
    "\n",
    "        #1.敲出\n",
    "        if knock_out_index.size > 0:\n",
    "            t = knock_out_index[0]\n",
    "            cash_flow[i] = coupon*t/252*np.exp(-r*t/252)\n",
    "            knock_out_count = knock_out_count + 1\n",
    "        #2.未敲出也未敲入\n",
    "        elif knock_out_index.size == 0 and knock_in_index.size ==0:\n",
    "            cash_flow[i]= coupon*T*np.exp(-r*T)\n",
    "            not_in_out = not_in_out + 1\n",
    "        #敲入但未敲出\n",
    "        elif knock_out_index.size == 0 and knock_in_index.size>0:\n",
    "            payoff = min(S_paths[-1][i]/S0-1,0)\n",
    "            cash_flow[i] = payoff*np.exp(-r*T)\n",
    "            knock_in_count = knock_in_count + 1\n",
    "        else:\n",
    "            pass\n",
    "    seneriao_count = {\"敲出比率\":knock_out_count/paths,\"敲入比率\":knock_in_count/paths,\"未敲入敲出\":not_in_out/paths}\n",
    "    return cash_flow.mean(),seneriao_count\n"
   ]
  },
  {
   "cell_type": "code",
   "execution_count": 14,
   "id": "879028de",
   "metadata": {},
   "outputs": [
    {
     "name": "stdout",
     "output_type": "stream",
     "text": [
      "CPU times: total: 2.75 s\n",
      "Wall time: 10.4 s\n"
     ]
    },
    {
     "data": {
      "text/plain": [
       "(0.05040423384830282, {'敲出比率': 0.73787, '敲入比率': 0.12685, '未敲入敲出': 0.13528})"
      ]
     },
     "execution_count": 14,
     "metadata": {},
     "output_type": "execute_result"
    }
   ],
   "source": [
    "%time auto_callable(S0=100,r=0.03,b=0.03,T=1,sigma=0.13,paths=500000,steps = 252,knock_out=1.03,knock_in=0.85,coupon=0.2)\n"
   ]
  },
  {
   "cell_type": "code",
   "execution_count": null,
   "id": "34e7f2eb",
   "metadata": {},
   "outputs": [],
   "source": []
  }
 ],
 "metadata": {
  "kernelspec": {
   "display_name": "base",
   "language": "python",
   "name": "python3"
  },
  "language_info": {
   "codemirror_mode": {
    "name": "ipython",
    "version": 3
   },
   "file_extension": ".py",
   "mimetype": "text/x-python",
   "name": "python",
   "nbconvert_exporter": "python",
   "pygments_lexer": "ipython3",
   "version": "3.9.12"
  }
 },
 "nbformat": 4,
 "nbformat_minor": 5
}
