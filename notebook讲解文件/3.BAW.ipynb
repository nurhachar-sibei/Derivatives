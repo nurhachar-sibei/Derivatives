{
 "cells": [
  {
   "cell_type": "markdown",
   "id": "94ce61d5",
   "metadata": {},
   "source": [
    "对于一个欧式看涨期权，计算价格可以通过BSM模型，有：\n",
    "$$\n",
    "C_e = Se^{(b-r)T}N(d_1) - Xe^{-rT}N(d_2) \\tag{3.1}\n",
    "$$\n",
    "\n",
    "而美式看涨期权，可以把他看成一个欧式期权外加一个提前行权溢价，即有：\n",
    "$$\n",
    "\\epsilon = C_a - C_e \\tag{3.2}\n",
    "$$"
   ]
  },
  {
   "cell_type": "markdown",
   "id": "88c5eff3",
   "metadata": {},
   "source": [
    "需要注意，如果美式期权和欧式期权都符合BSM偏微分方程，则提前行权溢价也需要满足，则有（$\\epsilon'_t$表示对于t的偏导，其余的同理）：\n",
    "$$\n",
    "\\frac {1}{2}\\sigma^2S^2\\epsilon'_{SS} - r{\\epsilon} + bS\\epsilon'_{S} + \\epsilon'_{t} = 0 \\tag{3.3}\n",
    "$$"
   ]
  },
  {
   "cell_type": "markdown",
   "id": "768727cf",
   "metadata": {},
   "source": [
    "令$M = 2r/\\sigma^2,N=2b/\\sigma^2$,则上式可写为：\n",
    "$$\n",
    "S^2\\epsilon'_{SS} - M\\epsilon + N\\epsilon'_{S} +\\frac{M}{r} \\epsilon'_{t} = 0 \\tag{3.4}\n",
    "$$"
   ]
  },
  {
   "cell_type": "markdown",
   "id": "d4e5c2ee",
   "metadata": {},
   "source": [
    "设$\\epsilon(S,K) = K(T)f(S,K),K(T) =(1-e^{-rT})$,则有:\n",
    "$$\n",
    "\\epsilon'_{SS} = Kf_{SS}\\\\\n",
    "\\epsilon'_{T} = K_Tf+Kf_KK_T\\\\\n",
    "K_T = (1-K)r\n",
    "$$"
   ]
  },
  {
   "cell_type": "markdown",
   "id": "27c059c2",
   "metadata": {},
   "source": [
    "带入到(3.4)中，有：\n",
    "$$\n",
    "S^2 f_{SS} +NSf_S-(\\frac{M}{K})f-(1-K)Mf_K = 0 \\tag{3.5}\n",
    "$$"
   ]
  },
  {
   "cell_type": "markdown",
   "id": "f8774fac",
   "metadata": {},
   "source": [
    "因为$\\lim_{T \\to \\infty}K=1$,有$\\lim_{T \\to \\infty}(1-K)Mf_K=0$,又有$\\lim_{T \\to 0}f_K=0$，所以可以认为$(1-K)Mf_K = 0$,则(3.5)可写为：\n",
    "$$\n",
    "S^2 f_{SS} +NSf_S-(\\frac{M}{K})f = 0 \\tag{3.6}\n",
    "$$"
   ]
  },
  {
   "cell_type": "markdown",
   "id": "d1932b62",
   "metadata": {},
   "source": [
    "令$f=aS^q$，则有：\n",
    "$$\n",
    "aS^q(q^2+(N-1)q-\\frac{M}{K}) = 0 \\tag{3.7}\n",
    "$$"
   ]
  },
  {
   "cell_type": "markdown",
   "id": "0c51c1b8",
   "metadata": {},
   "source": [
    "求解(3.7)，有：\n",
    "$$\n",
    "q = \\frac{-(N-1)\\pm\\sqrt{(N-1)^2+4\\frac{M}{K}}}{2} \\tag{3.8}\n",
    "$$"
   ]
  },
  {
   "cell_type": "markdown",
   "id": "9cff3605",
   "metadata": {},
   "source": [
    "所以解得(3.6)微分方程的解为：\n",
    "$$\n",
    "f = a_1S^{q_1}+a_2S^{q_2} \\tag{3.9}\n",
    "$$\n"
   ]
  },
  {
   "cell_type": "markdown",
   "id": "156788f9",
   "metadata": {},
   "source": [
    "由于$q_1(3.8取减号时)<0$时，若S趋近0，则$aSq_1$趋向于无穷，需要舍去，最后得：\n",
    "$$\n",
    "f=a_2S^{q_2} \\tag{3.9}\n",
    "$$\n",
    "带入可得：\n",
    "$$\n",
    "\\epsilon = K(T)f(S,K) = Ka_2S^{q_2}\\\\\n",
    "C_a = C_e + Ka_2S^{q_2} \\tag{3.10}\n",
    "$$"
   ]
  },
  {
   "cell_type": "markdown",
   "id": "00f9cdd8",
   "metadata": {},
   "source": [
    "接下来求解$a_2$"
   ]
  },
  {
   "cell_type": "markdown",
   "id": "d65aab27",
   "metadata": {},
   "source": [
    "对于美式期权，假设存在临界价格$S^*$, 若$S>=S^*$,则提前行权，获取S-X的行全收益，因此$C_a$在$S^*$处与$S-X$相切，因而有：\n",
    "$$\n",
    "S^* -X = C_e + Ka_2S^{q_2} \\tag{3.11}\n",
    "$$\n",
    "$$\n",
    "1 = e^{(b-r)T}N(d_1) + Ka_2q_2S^{*q_2-1} \\tag{3.12}\n",
    "$$"
   ]
  },
  {
   "cell_type": "markdown",
   "id": "105fdd20",
   "metadata": {},
   "source": [
    "将(3.12)以$a_2$带入(3.11)，有：\n",
    "$$\n",
    "S^* - X = C_e + [1-e^{(b-r)T}N(d_1)\\frac{S^*}{q_2}] \\tag{3.13}\n",
    "$$"
   ]
  },
  {
   "cell_type": "markdown",
   "id": "e00ae8ff",
   "metadata": {},
   "source": [
    "正常方式无法求解$S^*$，需利用牛顿法求解，不妨先假定已经求出$S^*$，则：\n",
    "$$\n",
    "C_a = C_e + A_2(S/S^*)^{q_2}, S<S^*\\\\\n",
    "C_a = S-X, S>=S^*\\\\\n",
    "其中：A_2 = \\frac{S^*}{q_2[1-e^{(b-r)T}N(d_1)]}    \n",
    "$$"
   ]
  },
  {
   "cell_type": "markdown",
   "id": "70d73bd5",
   "metadata": {},
   "source": [
    "于是目标由$a_2$变为了$S^*$的求解。"
   ]
  },
  {
   "cell_type": "markdown",
   "id": "0a08404b",
   "metadata": {},
   "source": [
    "利用牛顿迭代法，可得：\n",
    "$$\n",
    "S^* = X+[S^*(\\infty) -X][1-e^{h_2}]\\\\\n",
    "h_2 = -(bT+2\\sigma\\sqrt{T})[\\frac{X}{S^*(\\infty)-X}]\\\\\n",
    "S^*(\\infty) = \\frac{X}{1-1/q_2(\\infty)}\\\\\n",
    "q_2(\\infty) = \\frac{[-(N-1)+\\sqrt{(N-1)^2+4M}]}{2} \\tag{3.14}\n",
    "$$"
   ]
  },
  {
   "cell_type": "markdown",
   "id": "521d6c0f",
   "metadata": {},
   "source": []
  }
 ],
 "metadata": {
  "language_info": {
   "name": "python"
  }
 },
 "nbformat": 4,
 "nbformat_minor": 5
}
