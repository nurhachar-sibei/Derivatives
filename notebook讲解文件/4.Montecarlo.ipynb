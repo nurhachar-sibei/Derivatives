{
 "cells": [
  {
   "cell_type": "markdown",
   "id": "c649fe71",
   "metadata": {},
   "source": [
    "本篇的目的是介绍蒙特卡洛模拟法的步骤，主要是如何使用蒙特卡洛法获取衍生品，尤其是期权的价格"
   ]
  },
  {
   "cell_type": "markdown",
   "id": "13cd896a",
   "metadata": {},
   "source": [
    "考虑在第一篇中讲过的几何布朗运动：\n",
    "$$\n",
    "dS = bSdt+\\sigma S dz \\tag{4.1}\n",
    "$$\n",
    "若设$Y = lnS$,根据伊藤引理，有：\n",
    "$$\n",
    "dY = \\frac{\\partial Y}{\\partial S} dS + \\frac{1}{2}\\frac{\\partial^2 Y}{\\partial S^2} (dS)^2 \\tag{4.2}\n",
    "$$\n",
    "\n",
    "计算偏导并将偏导和(4.1)带入，可得：\n",
    "$$\n",
    "dY = (b-\\frac{1}{2}\\sigma^2)dt + \\sigma dz \\tag{4.3}\n",
    "$$\n",
    "\n",
    "故而积分可得：\n",
    "$$\n",
    "Y_t - Y_0 = (b-\\frac{1}{2}\\sigma^2)t + \\sigma (z_t-z_0) \\tag{4.4}\n",
    "$$\n",
    "\n",
    "因为$z_0 =0,Y_0=lnS_0$,所以有：\n",
    "$$\n",
    "Y_t =lnS_0 +  (b-\\frac{1}{2}\\sigma^2)t + \\sigma z_t \\tag{4.5}\n",
    "$$\n",
    "其$z_t = \\epsilon\\sqrt{t}(\\epsilon \\sim N(0,1))$为标准正态分布的随机变量，所以最后解得：\n",
    "$$\n",
    "S_t = S_0 e^{(b-\\frac{1}{2}\\sigma^2)t + \\sigma \\epsilon\\sqrt{t}} \\tag{4.6}\n",
    "$$\n"
   ]
  },
  {
   "cell_type": "markdown",
   "id": "0cfc1857",
   "metadata": {},
   "source": [
    "根据(4.6)即可模拟出一段时间内路径内的衍生品价格。"
   ]
  },
  {
   "cell_type": "markdown",
   "id": "f40be983",
   "metadata": {},
   "source": [
    "（1） 模拟欧式期权"
   ]
  },
  {
   "cell_type": "code",
   "execution_count": 20,
   "id": "5b8022be",
   "metadata": {},
   "outputs": [],
   "source": [
    "import numpy as np\n",
    "import matplotlib.pyplot as plt\n",
    "import numba\n",
    "import scipy.stats as stats\n",
    "import pandas as pd\n",
    "plt.rcParams['font.sans-serif'] = ['SimHei']\n",
    "plt.rcParams['axes.unicode_minus'] = False"
   ]
  },
  {
   "cell_type": "code",
   "execution_count": 2,
   "id": "a623d635",
   "metadata": {},
   "outputs": [],
   "source": [
    "def geo_brownian(steps,paths,T,S0,b,sigma):\n",
    "    #模拟路劲生成\n",
    "    dt = T/steps #时间间隔dt\n",
    "    S_path = np.zeros((steps+1,paths)) #初始化路径矩阵,，用来准备储存模拟情况\n",
    "    S_path[0] = S0 #起点设置\n",
    "    for step in range(1,steps+1):\n",
    "        rn = np.random.standard_normal(paths) #创造随机数\n",
    "        S_path[step] = S_path[step-1] * np.exp((b-0.5*sigma**2)*dt + sigma*np.sqrt(dt)*rn)\n",
    "    return S_path\n",
    "    "
   ]
  },
  {
   "cell_type": "code",
   "execution_count": 3,
   "id": "2ddb3e40",
   "metadata": {},
   "outputs": [],
   "source": [
    "def MC_Euro_Option(steps,paths,T,S0,X,sigma,b,r):\n",
    "    #模拟欧式期权价格\n",
    "    S_path = geo_brownian(steps,paths,T,S0,b,sigma) #模拟路径\n",
    "    value = np.exp(-r*T)*np.maximum(S_path[-1]-X,0).mean()\n",
    "    return value"
   ]
  },
  {
   "cell_type": "code",
   "execution_count": 4,
   "id": "04429847",
   "metadata": {},
   "outputs": [
    {
     "name": "stdout",
     "output_type": "stream",
     "text": [
      "9.926707877251987\n"
     ]
    }
   ],
   "source": [
    "C = MC_Euro_Option(steps=250,paths=5000000,T=1,S0=100,X=99,sigma=0.2,b=0.03,r=0.03)\n",
    "print(C)"
   ]
  },
  {
   "cell_type": "markdown",
   "id": "062d9a31",
   "metadata": {},
   "source": [
    "这一结果和BSM算出来的解析解十分接近"
   ]
  },
  {
   "cell_type": "markdown",
   "id": "f1a48802",
   "metadata": {},
   "source": [
    "（2）模拟亚式期权"
   ]
  },
  {
   "cell_type": "markdown",
   "id": "c3f2afa4",
   "metadata": {},
   "source": [
    "亚式期权的到期回报取决于路劲上资产价格的均值（算术平均或几何平均），这很难得到解析解，因此需要使用蒙特卡洛模拟"
   ]
  },
  {
   "cell_type": "code",
   "execution_count": 9,
   "id": "43470757",
   "metadata": {},
   "outputs": [],
   "source": [
    "def asian_option(steps,paths,T,S0,X,sigma,r,b):\n",
    "    S_path = geo_brownian(steps,paths,T,S0,b,sigma) #生成路径\n",
    "    S_mean = S_path.mean(axis=0) #计算每一条路劲上的均价\n",
    "    value = np.exp(-r*T)*np.maximum(S_mean-X,0).mean() #计算到期回报的均值\n",
    "    return value\n"
   ]
  },
  {
   "cell_type": "code",
   "execution_count": 10,
   "id": "5c8aa71d",
   "metadata": {},
   "outputs": [
    {
     "data": {
      "text/plain": [
       "5.8046783320159685"
      ]
     },
     "execution_count": 10,
     "metadata": {},
     "output_type": "execute_result"
    }
   ],
   "source": [
    "asian_option(steps=250,paths=500000,T=1,S0=100,X=99,sigma=0.2,r=0.03,b=0.03)"
   ]
  },
  {
   "cell_type": "markdown",
   "id": "5bfbcaa9",
   "metadata": {},
   "source": [
    "（3）蒙卡劣势"
   ]
  },
  {
   "cell_type": "markdown",
   "id": "b7f0b2d4",
   "metadata": {},
   "source": [
    "模拟1000条路径相较于模拟100条路径得到的标准差肯定是更低的，但这种对于方差的降低效果并不高。若模拟N条路径，每条模拟路径的值为$X_i$，标准差为$\\sigma$，那么路径均值为$X=\\sum X_i/n$，其标准误为$\\sigma/\\sqrt{n}$。因此路径的提升对于降低模拟标准差的效果会有一个平方根的影响。\n",
    "\n",
    "因此，提出以下改进方法："
   ]
  },
  {
   "cell_type": "code",
   "execution_count": null,
   "id": "ec66dd21",
   "metadata": {},
   "outputs": [
    {
     "name": "stdout",
     "output_type": "stream",
     "text": [
      "9.91294459863989\n"
     ]
    }
   ],
   "source": [
    "'''\n",
    "对偶变量法\n",
    "'''\n",
    "def anti_MC(steps,paths,T,S0,K,sigma,r,b):\n",
    "    dt = T / steps # 求出dt\n",
    "    S_path_1 = np.zeros((steps+1,paths))   #创建一个矩阵，用来准备储存模拟情况\n",
    "    S_path_2 = np.zeros((steps+1,paths))   #创建对偶矩阵，用来准备储存模拟情况\n",
    "    S_path_1[0],S_path_2[0]= S0,S0  #起点设置\n",
    "    for step in range(1,steps+1):\n",
    "        rn = np.random.standard_normal(paths) #创造随机数\n",
    "        S_path_1[step] = S_path_1[step - 1] * np.exp((b-0.5*sigma**2)*dt +sigma*np.sqrt(dt)*rn)\n",
    "        S_path_2[step] = S_path_2[step - 1] * np.exp((b-0.5*sigma**2)*dt +sigma*np.sqrt(dt)*(-rn))#差异在-rn\n",
    "    #到期时期权价值，先计算这一步后面再求均值的目的是确保每条路径之间是独立的\n",
    "    V_end_array = (np.maximum(S_path_1[-1]-K,0)+ np.maximum(S_path_2[-1]-K,0))/2  \n",
    "    value = np.exp(-r*T)*V_end_array.mean()\n",
    "    return value\n",
    "C = anti_MC(steps = 250,paths = 250000,T = 1,S0 = 100,K=99,sigma = 0.2,r=0.03,b=0.03)\n",
    "print(C)\n",
    "'''\n",
    "比直接模拟500000要快\n",
    "'''"
   ]
  },
  {
   "cell_type": "markdown",
   "id": "bfbf34ca",
   "metadata": {},
   "source": [
    "（4）模拟美式期权\n",
    "\n",
    "普通蒙卡无法定价美式期权，美式期权需要在各个steps比较行权价值价值和继续持有的价值，这就需要在没一个视点重新进行一次蒙卡用以计算当前欧式期权价格和立马行权价格，从而对比得到是否继续持有，这种在节点上在模拟新的节点的方式会让蒙卡陷入巨大的循环中。"
   ]
  },
  {
   "cell_type": "markdown",
   "id": "11818c5f",
   "metadata": {},
   "source": [
    "可以采用最小二乘蒙特卡洛模拟的方法：先通过蒙特卡洛模拟得到现货的价格路径，接着对于现货价格和未来现金流进行OLS，得到基于标的价格的继续持有的条件期望价值，通过比较继续持有和内在价值大小，得到提前行权的时间点，实现对美式期权的定价。\n"
   ]
  },
  {
   "cell_type": "markdown",
   "id": "9c0721e1",
   "metadata": {},
   "source": [
    "对美式看跌期权估值，行权价为1.1，标的价格为1，无风险利率为6%，模拟的价格路径如下。"
   ]
  },
  {
   "cell_type": "code",
   "execution_count": null,
   "id": "732b67d3",
   "metadata": {},
   "outputs": [
    {
     "data": {
      "text/html": [
       "<div>\n",
       "<style scoped>\n",
       "    .dataframe tbody tr th:only-of-type {\n",
       "        vertical-align: middle;\n",
       "    }\n",
       "\n",
       "    .dataframe tbody tr th {\n",
       "        vertical-align: top;\n",
       "    }\n",
       "\n",
       "    .dataframe thead th {\n",
       "        text-align: right;\n",
       "    }\n",
       "</style>\n",
       "<table border=\"1\" class=\"dataframe\">\n",
       "  <thead>\n",
       "    <tr style=\"text-align: right;\">\n",
       "      <th></th>\n",
       "      <th>t=0</th>\n",
       "      <th>t=1</th>\n",
       "      <th>t=2</th>\n",
       "      <th>t=3</th>\n",
       "    </tr>\n",
       "    <tr>\n",
       "      <th>Path</th>\n",
       "      <th></th>\n",
       "      <th></th>\n",
       "      <th></th>\n",
       "      <th></th>\n",
       "    </tr>\n",
       "  </thead>\n",
       "  <tbody>\n",
       "    <tr>\n",
       "      <th>1</th>\n",
       "      <td>1.0</td>\n",
       "      <td>1.09</td>\n",
       "      <td>1.08</td>\n",
       "      <td>1.34</td>\n",
       "    </tr>\n",
       "    <tr>\n",
       "      <th>2</th>\n",
       "      <td>1.0</td>\n",
       "      <td>1.16</td>\n",
       "      <td>1.26</td>\n",
       "      <td>1.54</td>\n",
       "    </tr>\n",
       "    <tr>\n",
       "      <th>3</th>\n",
       "      <td>1.0</td>\n",
       "      <td>1.22</td>\n",
       "      <td>1.07</td>\n",
       "      <td>1.03</td>\n",
       "    </tr>\n",
       "    <tr>\n",
       "      <th>4</th>\n",
       "      <td>1.0</td>\n",
       "      <td>0.93</td>\n",
       "      <td>0.97</td>\n",
       "      <td>0.92</td>\n",
       "    </tr>\n",
       "    <tr>\n",
       "      <th>5</th>\n",
       "      <td>1.0</td>\n",
       "      <td>1.11</td>\n",
       "      <td>1.56</td>\n",
       "      <td>1.52</td>\n",
       "    </tr>\n",
       "    <tr>\n",
       "      <th>6</th>\n",
       "      <td>1.0</td>\n",
       "      <td>0.76</td>\n",
       "      <td>0.77</td>\n",
       "      <td>0.90</td>\n",
       "    </tr>\n",
       "    <tr>\n",
       "      <th>7</th>\n",
       "      <td>1.0</td>\n",
       "      <td>0.92</td>\n",
       "      <td>0.84</td>\n",
       "      <td>1.01</td>\n",
       "    </tr>\n",
       "    <tr>\n",
       "      <th>8</th>\n",
       "      <td>1.0</td>\n",
       "      <td>0.88</td>\n",
       "      <td>1.22</td>\n",
       "      <td>1.34</td>\n",
       "    </tr>\n",
       "  </tbody>\n",
       "</table>\n",
       "</div>"
      ],
      "text/plain": [
       "      t=0   t=1   t=2   t=3\n",
       "Path                       \n",
       "1     1.0  1.09  1.08  1.34\n",
       "2     1.0  1.16  1.26  1.54\n",
       "3     1.0  1.22  1.07  1.03\n",
       "4     1.0  0.93  0.97  0.92\n",
       "5     1.0  1.11  1.56  1.52\n",
       "6     1.0  0.76  0.77  0.90\n",
       "7     1.0  0.92  0.84  1.01\n",
       "8     1.0  0.88  1.22  1.34"
      ]
     },
     "execution_count": 21,
     "metadata": {},
     "output_type": "execute_result"
    }
   ],
   "source": [
    "S_path = pd.DataFrame(data={\"Path\":np.arange(1,9),\"t=0\":np.ones(8),\\\n",
    "                     \"t=1\":np.array([1.09,1.16,1.22,0.93,1.11,0.76,0.92,0.88]),\\\n",
    "                     \"t=2\":np.array([1+.08,1.26,1.07,0.97,1.56,0.77,0.84,1.22]),\\\n",
    "                     \"t=3\":np.array([1.34,1.54,1.03,0.92,1.52,0.90,1.01,1.34])})\n",
    "S_path.set_index(\"Path\",inplace =True)\n",
    "S_path"
   ]
  },
  {
   "cell_type": "code",
   "execution_count": 22,
   "id": "96339188",
   "metadata": {},
   "outputs": [
    {
     "data": {
      "text/html": [
       "<div>\n",
       "<style scoped>\n",
       "    .dataframe tbody tr th:only-of-type {\n",
       "        vertical-align: middle;\n",
       "    }\n",
       "\n",
       "    .dataframe tbody tr th {\n",
       "        vertical-align: top;\n",
       "    }\n",
       "\n",
       "    .dataframe thead th {\n",
       "        text-align: right;\n",
       "    }\n",
       "</style>\n",
       "<table border=\"1\" class=\"dataframe\">\n",
       "  <thead>\n",
       "    <tr style=\"text-align: right;\">\n",
       "      <th></th>\n",
       "      <th>t=0</th>\n",
       "      <th>t=1</th>\n",
       "      <th>t=2</th>\n",
       "      <th>t=3</th>\n",
       "    </tr>\n",
       "    <tr>\n",
       "      <th>Path</th>\n",
       "      <th></th>\n",
       "      <th></th>\n",
       "      <th></th>\n",
       "      <th></th>\n",
       "    </tr>\n",
       "  </thead>\n",
       "  <tbody>\n",
       "    <tr>\n",
       "      <th>1</th>\n",
       "      <td>0.1</td>\n",
       "      <td>0.01</td>\n",
       "      <td>0.02</td>\n",
       "      <td>0.00</td>\n",
       "    </tr>\n",
       "    <tr>\n",
       "      <th>2</th>\n",
       "      <td>0.1</td>\n",
       "      <td>0.00</td>\n",
       "      <td>0.00</td>\n",
       "      <td>0.00</td>\n",
       "    </tr>\n",
       "    <tr>\n",
       "      <th>3</th>\n",
       "      <td>0.1</td>\n",
       "      <td>0.00</td>\n",
       "      <td>0.03</td>\n",
       "      <td>0.07</td>\n",
       "    </tr>\n",
       "    <tr>\n",
       "      <th>4</th>\n",
       "      <td>0.1</td>\n",
       "      <td>0.17</td>\n",
       "      <td>0.13</td>\n",
       "      <td>0.18</td>\n",
       "    </tr>\n",
       "    <tr>\n",
       "      <th>5</th>\n",
       "      <td>0.1</td>\n",
       "      <td>0.00</td>\n",
       "      <td>0.00</td>\n",
       "      <td>0.00</td>\n",
       "    </tr>\n",
       "    <tr>\n",
       "      <th>6</th>\n",
       "      <td>0.1</td>\n",
       "      <td>0.34</td>\n",
       "      <td>0.33</td>\n",
       "      <td>0.20</td>\n",
       "    </tr>\n",
       "    <tr>\n",
       "      <th>7</th>\n",
       "      <td>0.1</td>\n",
       "      <td>0.18</td>\n",
       "      <td>0.26</td>\n",
       "      <td>0.09</td>\n",
       "    </tr>\n",
       "    <tr>\n",
       "      <th>8</th>\n",
       "      <td>0.1</td>\n",
       "      <td>0.22</td>\n",
       "      <td>0.00</td>\n",
       "      <td>0.00</td>\n",
       "    </tr>\n",
       "  </tbody>\n",
       "</table>\n",
       "</div>"
      ],
      "text/plain": [
       "      t=0   t=1   t=2   t=3\n",
       "Path                       \n",
       "1     0.1  0.01  0.02  0.00\n",
       "2     0.1  0.00  0.00  0.00\n",
       "3     0.1  0.00  0.03  0.07\n",
       "4     0.1  0.17  0.13  0.18\n",
       "5     0.1  0.00  0.00  0.00\n",
       "6     0.1  0.34  0.33  0.20\n",
       "7     0.1  0.18  0.26  0.09\n",
       "8     0.1  0.22  0.00  0.00"
      ]
     },
     "execution_count": 22,
     "metadata": {},
     "output_type": "execute_result"
    }
   ],
   "source": [
    "#计算内在价值\n",
    "exercise_value = np.maximum(1.1-S_path,0)\n",
    "exercise_value\n"
   ]
  },
  {
   "cell_type": "code",
   "execution_count": 26,
   "id": "5a24f9f5",
   "metadata": {},
   "outputs": [
    {
     "data": {
      "text/html": [
       "<div>\n",
       "<style scoped>\n",
       "    .dataframe tbody tr th:only-of-type {\n",
       "        vertical-align: middle;\n",
       "    }\n",
       "\n",
       "    .dataframe tbody tr th {\n",
       "        vertical-align: top;\n",
       "    }\n",
       "\n",
       "    .dataframe thead th {\n",
       "        text-align: right;\n",
       "    }\n",
       "</style>\n",
       "<table border=\"1\" class=\"dataframe\">\n",
       "  <thead>\n",
       "    <tr style=\"text-align: right;\">\n",
       "      <th></th>\n",
       "      <th>X=股票价格</th>\n",
       "      <th>Y=未来现金流折现</th>\n",
       "    </tr>\n",
       "    <tr>\n",
       "      <th>Path</th>\n",
       "      <th></th>\n",
       "      <th></th>\n",
       "    </tr>\n",
       "  </thead>\n",
       "  <tbody>\n",
       "    <tr>\n",
       "      <th>1</th>\n",
       "      <td>1.08</td>\n",
       "      <td>0.000000</td>\n",
       "    </tr>\n",
       "    <tr>\n",
       "      <th>3</th>\n",
       "      <td>1.07</td>\n",
       "      <td>0.065924</td>\n",
       "    </tr>\n",
       "    <tr>\n",
       "      <th>4</th>\n",
       "      <td>0.97</td>\n",
       "      <td>0.169518</td>\n",
       "    </tr>\n",
       "    <tr>\n",
       "      <th>6</th>\n",
       "      <td>0.77</td>\n",
       "      <td>0.188353</td>\n",
       "    </tr>\n",
       "    <tr>\n",
       "      <th>7</th>\n",
       "      <td>0.84</td>\n",
       "      <td>0.084759</td>\n",
       "    </tr>\n",
       "  </tbody>\n",
       "</table>\n",
       "</div>"
      ],
      "text/plain": [
       "      X=股票价格  Y=未来现金流折现\n",
       "Path                   \n",
       "1       1.08   0.000000\n",
       "3       1.07   0.065924\n",
       "4       0.97   0.169518\n",
       "6       0.77   0.188353\n",
       "7       0.84   0.084759"
      ]
     },
     "execution_count": 26,
     "metadata": {},
     "output_type": "execute_result"
    }
   ],
   "source": [
    "itm_index = (exercise_value[\"t=2\"]>0)\n",
    "X = S_path.loc[itm_index,\"t=2\"]\n",
    "Y = exercise_value.loc[itm_index,\"t=3\"]*np.exp(-0.06)\n",
    "reg_data = pd.DataFrame(data={\"X=股票价格\":X,\"Y=未来现金流折现\":Y})\n",
    "reg_data"
   ]
  },
  {
   "cell_type": "code",
   "execution_count": 36,
   "id": "40418c38",
   "metadata": {},
   "outputs": [
    {
     "name": "stdout",
     "output_type": "stream",
     "text": [
      "回归方程\n",
      "-1.814X^2+2.983X -1.070\n"
     ]
    }
   ],
   "source": [
    "'''\n",
    "利用XY做回归，计算继续持有价值holding_value\n",
    "'''\n",
    "reg = np.polyfit(x=X,y=Y,deg=2)\n",
    "print(f\"回归方程\\n{reg[0]:.3f}X^2+{reg[1]:.3f}X {reg[2]:.3f}\")# 回归的系数\n"
   ]
  },
  {
   "cell_type": "code",
   "execution_count": null,
   "id": "3b06427a",
   "metadata": {},
   "outputs": [],
   "source": [
    "reg_data['holding_value'] = np.polyval(reg,S_path.iloc[itm_index,'t=2'])\n",
    "reg_data"
   ]
  },
  {
   "cell_type": "code",
   "execution_count": null,
   "id": "2f1d024d",
   "metadata": {},
   "outputs": [],
   "source": [
    "reg = np.polyfit(x = X,y = Y,deg = 2)  #XY做2次最小二乘法\n",
    "print(f\"回归方程\\n{reg[0]:.3f}X^2+{reg[1]:.3f}X {reg[2]:.3f}\")# 回归的系数\n",
    "reg_data[\"holding_value\"] = np.polyval(reg,S_path.loc[itm_index,\"t=2\"])  #求出期望的继续持有价值"
   ]
  }
 ],
 "metadata": {
  "kernelspec": {
   "display_name": "base",
   "language": "python",
   "name": "python3"
  },
  "language_info": {
   "codemirror_mode": {
    "name": "ipython",
    "version": 3
   },
   "file_extension": ".py",
   "mimetype": "text/x-python",
   "name": "python",
   "nbconvert_exporter": "python",
   "pygments_lexer": "ipython3",
   "version": "3.9.12"
  }
 },
 "nbformat": 4,
 "nbformat_minor": 5
}
