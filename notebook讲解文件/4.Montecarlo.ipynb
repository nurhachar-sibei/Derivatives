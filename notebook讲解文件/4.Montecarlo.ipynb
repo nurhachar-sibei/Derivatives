{
 "cells": [
  {
   "cell_type": "markdown",
   "id": "c649fe71",
   "metadata": {},
   "source": [
    "本篇的目的是介绍蒙特卡洛模拟法的步骤，主要是如何使用蒙特卡洛法获取衍生品，尤其是期权的价格"
   ]
  },
  {
   "cell_type": "markdown",
   "id": "13cd896a",
   "metadata": {},
   "source": [
    "考虑在第一篇中讲过的几何布朗运动：\n",
    "$$\n",
    "dS = bSdt+\\sigma S dz \\tag{4.1}\n",
    "$$\n",
    "若设$Y = lnS$,根据伊藤引理，有：\n",
    "$$\n",
    "dY = \\frac{\\partial Y}{\\partial S} dS + \\frac{1}{2}\\frac{\\partial^2 Y}{\\partial S^2} (dS)^2 \\tag{4.2}\n",
    "$$\n",
    "\n",
    "计算偏导并将偏导和(4.1)带入，可得：\n",
    "$$\n",
    "dY = (b-\\frac{1}{2}\\sigma^2)dt + \\sigma dz \\tag{4.3}\n",
    "$$\n",
    "\n",
    "故而积分可得：\n",
    "$$\n",
    "Y_t - Y_0 = (b-\\frac{1}{2}\\sigma^2)t + \\sigma (z_t-z_0) \\tag{4.4}\n",
    "$$\n",
    "\n",
    "因为$z_0 =0,Y_0=lnS_0$,所以有：\n",
    "$$\n",
    "Y_t =lnS_0 +  (b-\\frac{1}{2}\\sigma^2)t + \\sigma z_t \\tag{4.5}\n",
    "$$\n",
    "其$z_t = \\epsilon\\sqrt{t}(\\epsilon \\sim N(0,1))$为标准正态分布的随机变量，所以最后解得：\n",
    "$$\n",
    "S_t = S_0 e^{(b-\\frac{1}{2}\\sigma^2)t + \\sigma \\epsilon\\sqrt{t}} \\tag{4.6}\n",
    "$$\n"
   ]
  },
  {
   "cell_type": "markdown",
   "id": "0cfc1857",
   "metadata": {},
   "source": [
    "根据(4.6)即可模拟出一段时间内路径内的衍生品价格。"
   ]
  },
  {
   "cell_type": "markdown",
   "id": "f40be983",
   "metadata": {},
   "source": [
    "（1） 模拟欧式期权"
   ]
  },
  {
   "cell_type": "code",
   "execution_count": 1,
   "id": "5b8022be",
   "metadata": {},
   "outputs": [
    {
     "name": "stderr",
     "output_type": "stream",
     "text": [
      "<frozen importlib._bootstrap>:228: RuntimeWarning: scipy._lib.messagestream.MessageStream size changed, may indicate binary incompatibility. Expected 56 from C header, got 64 from PyObject\n"
     ]
    }
   ],
   "source": [
    "import numpy as np\n",
    "import matplotlib.pyplot as plt\n",
    "import numba\n",
    "import scipy.stats as stats\n",
    "plt.rcParams['font.sans-serif'] = ['SimHei']\n",
    "plt.rcParams['axes.unicode_minus'] = False"
   ]
  },
  {
   "cell_type": "code",
   "execution_count": 2,
   "id": "a623d635",
   "metadata": {},
   "outputs": [],
   "source": [
    "def geo_brownian(steps,paths,T,S0,b,sigma):\n",
    "    #模拟路劲生成\n",
    "    dt = T/steps #时间间隔dt\n",
    "    S_path = np.zeros((steps+1,paths)) #初始化路径矩阵,，用来准备储存模拟情况\n",
    "    S_path[0] = S0 #起点设置\n",
    "    for step in range(1,steps+1):\n",
    "        rn = np.random.standard_normal(paths) #创造随机数\n",
    "        S_path[step] = S_path[step-1] * np.exp((b-0.5*sigma**2)*dt + sigma*np.sqrt(dt)*rn)\n",
    "    return S_path\n",
    "    "
   ]
  },
  {
   "cell_type": "code",
   "execution_count": 3,
   "id": "2ddb3e40",
   "metadata": {},
   "outputs": [],
   "source": [
    "def MC_Euro_Option(steps,paths,T,S0,X,sigma,b,r):\n",
    "    #模拟欧式期权价格\n",
    "    S_path = geo_brownian(steps,paths,T,S0,b,sigma) #模拟路径\n",
    "    value = np.exp(-r*T)*np.maximum(S_path[-1]-X,0).mean()\n",
    "    return value"
   ]
  },
  {
   "cell_type": "code",
   "execution_count": 4,
   "id": "04429847",
   "metadata": {},
   "outputs": [
    {
     "name": "stdout",
     "output_type": "stream",
     "text": [
      "9.926707877251987\n"
     ]
    }
   ],
   "source": [
    "C = MC_Euro_Option(steps=250,paths=5000000,T=1,S0=100,X=99,sigma=0.2,b=0.03,r=0.03)\n",
    "print(C)"
   ]
  },
  {
   "cell_type": "markdown",
   "id": "062d9a31",
   "metadata": {},
   "source": [
    "这一结果和BSM算出来的解析解十分接近"
   ]
  },
  {
   "cell_type": "markdown",
   "id": "f1a48802",
   "metadata": {},
   "source": [
    "考虑亚式期权"
   ]
  },
  {
   "cell_type": "markdown",
   "id": "c3f2afa4",
   "metadata": {},
   "source": [
    "亚式期权的到期回报取决于路劲上资产价格的均值（算术平均或几何平均），这很难得到解析解，因此需要使用蒙特卡洛模拟"
   ]
  },
  {
   "cell_type": "code",
   "execution_count": 9,
   "id": "43470757",
   "metadata": {},
   "outputs": [],
   "source": [
    "def asian_option(steps,paths,T,S0,X,sigma,r,b):\n",
    "    S_path = geo_brownian(steps,paths,T,S0,b,sigma) #生成路径\n",
    "    S_mean = S_path.mean(axis=0) #计算每一条路劲上的均价\n",
    "    value = np.exp(-r*T)*np.maximum(S_mean-X,0).mean() #计算到期回报的均值\n",
    "    return value\n"
   ]
  },
  {
   "cell_type": "code",
   "execution_count": 10,
   "id": "5c8aa71d",
   "metadata": {},
   "outputs": [
    {
     "data": {
      "text/plain": [
       "5.8046783320159685"
      ]
     },
     "execution_count": 10,
     "metadata": {},
     "output_type": "execute_result"
    }
   ],
   "source": [
    "asian_option(steps=250,paths=500000,T=1,S0=100,X=99,sigma=0.2,r=0.03,b=0.03)"
   ]
  },
  {
   "cell_type": "code",
   "execution_count": 11,
   "id": "2fb567d4",
   "metadata": {},
   "outputs": [],
   "source": [
    "S_path = geo_brownian(steps=250,paths=500000,T=1,S0=100,b=0.03,sigma=0.2) "
   ]
  },
  {
   "cell_type": "code",
   "execution_count": 17,
   "id": "a17b96f9",
   "metadata": {},
   "outputs": [
    {
     "data": {
      "text/plain": [
       "array([[100.        , 100.        , 100.        , ..., 100.        ,\n",
       "        100.        , 100.        ],\n",
       "       [100.84928316,  98.60083621,  98.85683424, ..., 101.28876654,\n",
       "        100.39831892, 101.53210003],\n",
       "       [ 98.57406305, 100.99797115, 101.53789308, ..., 100.78473922,\n",
       "        100.42835543, 101.5660064 ],\n",
       "       ...,\n",
       "       [102.74318092,  97.95230661, 116.27053534, ...,  85.24073779,\n",
       "        119.1982379 , 102.47979816],\n",
       "       [100.95117222,  98.73564136, 117.55611439, ...,  85.47398257,\n",
       "        118.47164904, 100.99012852],\n",
       "       [100.30526422,  98.53446219, 119.03426157, ...,  86.16858852,\n",
       "        116.63597706, 100.34851427]])"
      ]
     },
     "execution_count": 17,
     "metadata": {},
     "output_type": "execute_result"
    }
   ],
   "source": [
    "S_path"
   ]
  },
  {
   "cell_type": "code",
   "execution_count": null,
   "id": "ec66dd21",
   "metadata": {},
   "outputs": [],
   "source": []
  }
 ],
 "metadata": {
  "kernelspec": {
   "display_name": "base",
   "language": "python",
   "name": "python3"
  },
  "language_info": {
   "codemirror_mode": {
    "name": "ipython",
    "version": 3
   },
   "file_extension": ".py",
   "mimetype": "text/x-python",
   "name": "python",
   "nbconvert_exporter": "python",
   "pygments_lexer": "ipython3",
   "version": "3.9.12"
  }
 },
 "nbformat": 4,
 "nbformat_minor": 5
}
